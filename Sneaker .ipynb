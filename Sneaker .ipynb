{
 "cells": [
  {
   "cell_type": "code",
   "execution_count": 10,
   "id": "21c14d39-b2d0-4330-8cb7-12e2b0329ae3",
   "metadata": {},
   "outputs": [],
   "source": [
    "import os\n",
    "import shutil\n",
    "from pathlib import Path\n",
    "import cv2\n",
    "import yaml  # This was missing!\n",
    "from PIL import Image\n",
    "from roboflow import Roboflow\n",
    "import torch\n",
    "from torch.utils.data import DataLoader\n",
    "from torchvision import transforms, datasets\n",
    "import torch.nn as nn\n",
    "import torch.optim as optim\n",
    "from torchvision import models\n",
    "from tqdm import tqdm"
   ]
  },
  {
   "cell_type": "code",
   "execution_count": 6,
   "id": "b7c898e0-7b5b-42f0-8bf9-a3abd2463bd3",
   "metadata": {},
   "outputs": [
    {
     "name": "stdout",
     "output_type": "stream",
     "text": [
      "loading Roboflow workspace...\n",
      "loading Roboflow project...\n"
     ]
    },
    {
     "name": "stderr",
     "output_type": "stream",
     "text": [
      "Downloading Dataset Version Zip in counterfeit-nike-shoes-detection-1 to yolov8:"
     ]
    },
    {
     "name": "stdout",
     "output_type": "stream",
     "text": [
      "\n"
     ]
    },
    {
     "name": "stderr",
     "output_type": "stream",
     "text": [
      "\n",
      "Extracting Dataset Version Zip to counterfeit-nike-shoes-detection-1 in yolov8::"
     ]
    },
    {
     "name": "stdout",
     "output_type": "stream",
     "text": [
      "Dataset downloaded to: /Users/mesharyalbutti/AI/LearningAI/counterfeit-nike-shoes-detection-1\n"
     ]
    },
    {
     "name": "stderr",
     "output_type": "stream",
     "text": [
      "\n"
     ]
    }
   ],
   "source": [
    "rf = Roboflow(api_key= 'pvOUIjcv7gdFcMxVMGTs')\n",
    "project = rf.workspace(\"default-kupxs\").project(\"counterfeit-nike-shoes-detection\")\n",
    "dataset = project.version(1).download(\"yolov8\")\n",
    "print(f\"Dataset downloaded to: {dataset.location}\")"
   ]
  },
  {
   "cell_type": "code",
   "execution_count": 11,
   "id": "d41b61be-dbe2-4bc4-b009-82764245194d",
   "metadata": {},
   "outputs": [
    {
     "name": "stdout",
     "output_type": "stream",
     "text": [
      "Found classes: ['nike fake air force', 'nike fake jordan 1', 'nike original air force', 'nike original jordan 1']\n",
      "\n",
      "Processing train split...\n",
      "  real: 1268 images\n",
      "  fake: 1435 images\n",
      "\n",
      "Processing valid split...\n",
      "  real: 356 images\n",
      "  fake: 415 images\n",
      "\n",
      "Processing test split...\n",
      "  real: 191 images\n",
      "  fake: 195 images\n",
      "\n",
      "Dataset converted and saved to: classification_data_full\n"
     ]
    }
   ],
   "source": [
    "def convert_detection_to_classification_full_images(dataset_location, output_dir=\"classification_data_full\"):\n",
    "    \"\"\"\n",
    "    Convert object detection dataset to classification format using full images\n",
    "    \"\"\"\n",
    "    dataset_path = Path(dataset_location)\n",
    "    output_path = Path(output_dir)\n",
    "    \n",
    "    # Read the data.yaml file\n",
    "    yaml_path = dataset_path / 'data.yaml'\n",
    "    with open(yaml_path, 'r') as f:\n",
    "        data_config = yaml.safe_load(f)\n",
    "    \n",
    "    class_names = data_config['names']\n",
    "    print(f\"Found classes: {class_names}\")\n",
    "    \n",
    "    # Create output directory structure\n",
    "    for split in ['train', 'valid', 'test']:\n",
    "        for class_type in ['real', 'fake']:\n",
    "            (output_path / split / class_type).mkdir(parents=True, exist_ok=True)\n",
    "    \n",
    "    # Process each split\n",
    "    for split in ['train', 'valid', 'test']:\n",
    "        split_img_dir = dataset_path / split / 'images'\n",
    "        split_label_dir = dataset_path / split / 'labels'\n",
    "        \n",
    "        if not split_img_dir.exists():\n",
    "            print(f\"Warning: {split} split not found\")\n",
    "            continue\n",
    "            \n",
    "        print(f\"\\nProcessing {split} split...\")\n",
    "        \n",
    "        real_count = 0\n",
    "        fake_count = 0\n",
    "        \n",
    "        # Process each image\n",
    "        for img_file in split_img_dir.glob('*.[jp][pn][g]'):\n",
    "            label_file = split_label_dir / (img_file.stem + '.txt')\n",
    "            \n",
    "            if not label_file.exists():\n",
    "                print(f\"Warning: No label file for {img_file.name}\")\n",
    "                continue\n",
    "            \n",
    "            # Read labels to determine predominant class\n",
    "            with open(label_file, 'r') as f:\n",
    "                lines = f.readlines()\n",
    "            \n",
    "            if len(lines) == 0:\n",
    "                continue\n",
    "            \n",
    "            # Get the first object's class (or you could use majority voting)\n",
    "            class_id = int(lines[0].split()[0])\n",
    "            class_name = class_names[class_id].lower()\n",
    "            \n",
    "            # Determine if real or fake based on keywords\n",
    "            if 'original' in class_name or 'real' in class_name or 'authentic' in class_name:\n",
    "                target_class = 'real'\n",
    "                real_count += 1\n",
    "            elif 'fake' in class_name or 'counterfeit' in class_name or 'replica' in class_name:\n",
    "                target_class = 'fake'\n",
    "                fake_count += 1\n",
    "            else:\n",
    "                # Default classification based on common patterns\n",
    "                if 'jordan' in class_name and 'fake' not in class_name:\n",
    "                    target_class = 'real'\n",
    "                    real_count += 1\n",
    "                else:\n",
    "                    print(f\"Warning: Can't classify {class_name}, skipping\")\n",
    "                    continue\n",
    "            \n",
    "            # Copy full image to appropriate folder\n",
    "            output_file = output_path / split / target_class / img_file.name\n",
    "            shutil.copy2(img_file, output_file)\n",
    "        \n",
    "        print(f\"  real: {real_count} images\")\n",
    "        print(f\"  fake: {fake_count} images\")\n",
    "    \n",
    "    print(f\"\\nDataset converted and saved to: {output_path}\")\n",
    "    return output_path\n",
    "\n",
    "# Run the conversion\n",
    "classification_data_path = convert_detection_to_classification_full_images(dataset.location)\n"
   ]
  },
  {
   "cell_type": "code",
   "execution_count": 13,
   "id": "cbe75a7b-34d9-49ca-8b40-b9b6c10f4947",
   "metadata": {},
   "outputs": [],
   "source": [
    "train_transform = transforms.Compose([\n",
    "    transforms.Resize((256,256)),\n",
    "    transforms.RandomCrop(224),\n",
    "    transforms.RandomHorizontalFlip(p=0.5),\n",
    "    transforms.RandomRotation(degrees=15),        \n",
    "    transforms.ColorJitter(brightness=0.2,        \n",
    "                          contrast=0.2,             \n",
    "                          saturation=0.2,          \n",
    "                          hue=0.1),                \n",
    "    transforms.ToTensor(),\n",
    "    transforms.Normalize(mean=[0.485, 0.456, 0.406], \n",
    "                        std=[0.229, 0.224, 0.225])\n",
    "\n",
    "])\n",
    "\n",
    "val_test_transform = transforms.Compose([\n",
    "    transforms.Resize((256,256)),\n",
    "    transforms.ToTensor(),\n",
    "    transforms.Normalize(mean=[0.485, 0.456, 0.406], \n",
    "                        std=[0.229, 0.224, 0.225])\n",
    "])"
   ]
  },
  {
   "cell_type": "code",
   "execution_count": 14,
   "id": "30abde31-173d-4c91-b6f5-d062e5f952e9",
   "metadata": {},
   "outputs": [],
   "source": [
    "train_ds = datasets.ImageFolder('classification_data_full/train',transform=train_transform)\n",
    "valid_ds = datasets.ImageFolder('classification_data_full/valid', transform=val_test_transform)\n",
    "test_ds = datasets.ImageFolder('classification_data_full/test', transform=val_test_transform)"
   ]
  },
  {
   "cell_type": "code",
   "execution_count": 41,
   "id": "db8547d1-3c03-4a9f-88a7-f13d8c9b4741",
   "metadata": {},
   "outputs": [],
   "source": [
    "batch_size = 32\n",
    "train_loader = DataLoader(train_ds,batch_size, shuffle=True, num_workers=4)\n",
    "valid_loader = DataLoader(valid_ds,batch_size, shuffle=False, num_workers=4)\n",
    "test_loader = DataLoader(test_ds,batch_size, shuffle=False, num_workers=4)"
   ]
  },
  {
   "cell_type": "code",
   "execution_count": 19,
   "id": "ef4a8cb6-ed9e-4ee4-904f-0967addbf870",
   "metadata": {},
   "outputs": [
    {
     "name": "stdout",
     "output_type": "stream",
     "text": [
      " Training samples: 2703 \n",
      " Validation samples: 771 \n",
      " Test samples: 386 \n"
     ]
    }
   ],
   "source": [
    "print(f\" Training samples: {len(train_ds)} \")\n",
    "print(f\" Validation samples: {len(valid_ds)} \")\n",
    "print(f\" Test samples: {len(test_ds)} \")"
   ]
  },
  {
   "cell_type": "code",
   "execution_count": 30,
   "id": "130c5d33-acc3-4591-ae24-f81156f20e51",
   "metadata": {},
   "outputs": [
    {
     "name": "stdout",
     "output_type": "stream",
     "text": [
      "Downloading: \"https://download.pytorch.org/models/resnet50-11ad3fa6.pth\" to /Users/mesharyalbutti/.cache/torch/hub/checkpoints/resnet50-11ad3fa6.pth\n"
     ]
    },
    {
     "name": "stderr",
     "output_type": "stream",
     "text": [
      "100%|██████████████████████████████████████| 97.8M/97.8M [00:10<00:00, 10.2MB/s]\n"
     ]
    }
   ],
   "source": [
    "from torchvision import models\n",
    "from torchvision.models import ResNet50_Weights\n",
    "\n",
    "model = models.resnet50(weights=ResNet50_Weights.DEFAULT)"
   ]
  },
  {
   "cell_type": "code",
   "execution_count": 31,
   "id": "7593265c-625c-491f-9f3a-6ee4070010af",
   "metadata": {},
   "outputs": [],
   "source": [
    "num_features = model.fc.in_features"
   ]
  },
  {
   "cell_type": "code",
   "execution_count": 33,
   "id": "c6b329eb-7e3c-4855-8844-06958b887762",
   "metadata": {},
   "outputs": [
    {
     "name": "stdout",
     "output_type": "stream",
     "text": [
      " Model loaded on: mps\n",
      " Total parameters: 24,559,170\n",
      " Trainable parameters: 16,015,874\n",
      " Training only 65.2% of the model\n"
     ]
    }
   ],
   "source": [
    "for name, param in model.named_parameters():\n",
    "    if 'layer4' not in name and 'fc' not in name:\n",
    "        param.requires_grad = False\n",
    "\n",
    "model.fc = nn.Sequential(\n",
    "    nn.Dropout(0.5),\n",
    "    nn.Linear(num_features, 512),\n",
    "    nn.ReLU(),\n",
    "    nn.BatchNorm1d(512),\n",
    "    nn.Dropout(0.3),\n",
    "    nn.Linear(512, 2)\n",
    ")\n",
    "\n",
    "device = torch.device(\"mps\" if torch.backends.mps.is_available() else \"cpu\")\n",
    "model = model.to(device)\n",
    "\n",
    "# Check trainable parameters\n",
    "total_params = sum(p.numel() for p in model.parameters())\n",
    "trainable_params = sum(p.numel() for p in model.parameters() if p.requires_grad)\n",
    "print(f\" Model loaded on: {device}\")\n",
    "print(f\" Total parameters: {total_params:,}\")\n",
    "print(f\" Trainable parameters: {trainable_params:,}\")\n",
    "print(f\" Training only {(trainable_params/total_params)*100:.1f}% of the model\")"
   ]
  },
  {
   "cell_type": "code",
   "execution_count": 36,
   "id": "e57f337b-1b13-4351-bc79-269346c93060",
   "metadata": {},
   "outputs": [],
   "source": [
    "criterion = nn.CrossEntropyLoss()\n",
    "optimizer = optim.AdamW([\n",
    "    {'params': model.fc.parameters(), 'lr': 0.001},\n",
    "    {'params': model.layer4.parameters(), 'lr': 0.0001}\n",
    "], weight_decay=0.01)\n",
    "scheduler = optim.lr_scheduler.ReduceLROnPlateau(optimizer,\n",
    "                                                mode='min',\n",
    "                                                patience=3,\n",
    "                                                factor=0.5)"
   ]
  },
  {
   "cell_type": "code",
   "execution_count": 39,
   "id": "e86e51af-97b0-4538-9d4f-d06db39de845",
   "metadata": {},
   "outputs": [],
   "source": [
    "from tqdm import tqdm\n",
    "import time\n",
    "\n",
    "def train_model(model, criterion, optimizer, scheduler, num_epochs=10):\n",
    "    best_valid_acc = 0.0\n",
    "    history = {'train_loss': [], 'valid_loss': [], 'train_acc': [], 'valid_acc': []}\n",
    "    \n",
    "    for epoch in range(num_epochs):\n",
    "        print(f'\\nEpoch {epoch+1}/{num_epochs}')\n",
    "        print('-' * 50)\n",
    "        \n",
    "        # TRAINING PHASE\n",
    "        model.train()\n",
    "        running_loss = 0.0\n",
    "        correct = 0\n",
    "        total = 0\n",
    "        \n",
    "        \n",
    "        train_pbar = tqdm(train_loader, desc='Training', leave=False)\n",
    "        for images, labels in train_pbar:\n",
    "            images, labels = images.to(device), labels.to(device)\n",
    "            \n",
    "            outputs = model(images)\n",
    "            loss = criterion(outputs, labels)\n",
    "            \n",
    "            optimizer.zero_grad()\n",
    "            loss.backward()\n",
    "            \n",
    "            torch.nn.utils.clip_grad_norm_(model.parameters(), max_norm=1.0)\n",
    "            \n",
    "            optimizer.step()\n",
    "            \n",
    "            \n",
    "            running_loss += loss.item()\n",
    "            _, predicted = torch.max(outputs, 1)\n",
    "            total += labels.size(0)\n",
    "            correct += (predicted == labels).sum().item()\n",
    "            \n",
    "            \n",
    "            train_pbar.set_postfix({\n",
    "                'loss': f'{loss.item():.4f}',\n",
    "                'acc': f'{100*correct/total:.2f}%'\n",
    "            })\n",
    "        \n",
    "        train_loss = running_loss / len(train_loader)\n",
    "        train_acc = 100 * correct / total\n",
    "        \n",
    "        \n",
    "        model.eval()\n",
    "        running_loss = 0.0\n",
    "        correct = 0\n",
    "        total = 0\n",
    "        \n",
    "        valid_pbar = tqdm(valid_loader, desc='Validation', leave=False)\n",
    "        with torch.no_grad():\n",
    "            for images, labels in valid_pbar:\n",
    "                images, labels = images.to(device), labels.to(device)\n",
    "                \n",
    "                outputs = model(images)\n",
    "                loss = criterion(outputs, labels)\n",
    "                \n",
    "                running_loss += loss.item()\n",
    "                _, predicted = torch.max(outputs, 1)\n",
    "                total += labels.size(0)\n",
    "                correct += (predicted == labels).sum().item()\n",
    "                \n",
    "                valid_pbar.set_postfix({\n",
    "                    'loss': f'{loss.item():.4f}',\n",
    "                    'acc': f'{100*correct/total:.2f}%'\n",
    "                })\n",
    "        \n",
    "        valid_loss = running_loss / len(valid_loader)\n",
    "        valid_acc = 100 * correct / total\n",
    "        \n",
    "        \n",
    "        scheduler.step(valid_loss)\n",
    "        \n",
    "        history['train_loss'].append(train_loss)\n",
    "        history['valid_loss'].append(valid_loss)\n",
    "        history['train_acc'].append(train_acc)\n",
    "        history['valid_acc'].append(valid_acc)\n",
    "        \n",
    "        \n",
    "        print(f'Train Loss: {train_loss:.4f} | Train Acc: {train_acc:.2f}%')\n",
    "        print(f'Valid Loss: {valid_loss:.4f} | Valid Acc: {valid_acc:.2f}%')\n",
    "        print(f'Learning Rate: {optimizer.param_groups[0][\"lr\"]:.6f}')\n",
    "        \n",
    "        # Save best model\n",
    "        if valid_acc > best_valid_acc:\n",
    "            best_valid_acc = valid_acc\n",
    "            torch.save({\n",
    "                'epoch': epoch,\n",
    "                'model_state_dict': model.state_dict(),\n",
    "                'optimizer_state_dict': optimizer.state_dict(),\n",
    "                'best_acc': best_valid_acc,\n",
    "            }, 'best_sneaker_model.pth')\n",
    "            print(f'✓ Saved best model with {best_valid_acc:.2f}% accuracy')\n",
    "    \n",
    "    print(f'\\n✓ Training complete! Best accuracy: {best_valid_acc:.2f}%')\n",
    "    return history"
   ]
  },
  {
   "cell_type": "code",
   "execution_count": 43,
   "id": "8885b326-41b8-4931-bdb1-5517e8c7503e",
   "metadata": {},
   "outputs": [
    {
     "name": "stdout",
     "output_type": "stream",
     "text": [
      "\n",
      "Epoch 1/10\n",
      "--------------------------------------------------\n"
     ]
    },
    {
     "name": "stderr",
     "output_type": "stream",
     "text": [
      "                                                                                \r"
     ]
    },
    {
     "name": "stdout",
     "output_type": "stream",
     "text": [
      "Train Loss: 0.4488 | Train Acc: 78.84%\n",
      "Valid Loss: 0.3668 | Valid Acc: 84.18%\n",
      "Learning Rate: 0.001000\n",
      "✓ Saved best model with 84.18% accuracy\n",
      "\n",
      "Epoch 2/10\n",
      "--------------------------------------------------\n"
     ]
    },
    {
     "name": "stderr",
     "output_type": "stream",
     "text": [
      "                                                                                \r"
     ]
    },
    {
     "name": "stdout",
     "output_type": "stream",
     "text": [
      "Train Loss: 0.3331 | Train Acc: 86.20%\n",
      "Valid Loss: 0.2895 | Valid Acc: 87.16%\n",
      "Learning Rate: 0.001000\n",
      "✓ Saved best model with 87.16% accuracy\n",
      "\n",
      "Epoch 3/10\n",
      "--------------------------------------------------\n"
     ]
    },
    {
     "name": "stderr",
     "output_type": "stream",
     "text": [
      "                                                                                \r"
     ]
    },
    {
     "name": "stdout",
     "output_type": "stream",
     "text": [
      "Train Loss: 0.2567 | Train Acc: 89.31%\n",
      "Valid Loss: 0.2411 | Valid Acc: 88.98%\n",
      "Learning Rate: 0.001000\n",
      "✓ Saved best model with 88.98% accuracy\n",
      "\n",
      "Epoch 4/10\n",
      "--------------------------------------------------\n"
     ]
    },
    {
     "name": "stderr",
     "output_type": "stream",
     "text": [
      "                                                                                \r"
     ]
    },
    {
     "name": "stdout",
     "output_type": "stream",
     "text": [
      "Train Loss: 0.2144 | Train Acc: 91.49%\n",
      "Valid Loss: 0.2819 | Valid Acc: 87.68%\n",
      "Learning Rate: 0.001000\n",
      "\n",
      "Epoch 5/10\n",
      "--------------------------------------------------\n"
     ]
    },
    {
     "name": "stderr",
     "output_type": "stream",
     "text": [
      "                                                                                \r"
     ]
    },
    {
     "name": "stdout",
     "output_type": "stream",
     "text": [
      "Train Loss: 0.1693 | Train Acc: 93.04%\n",
      "Valid Loss: 0.1999 | Valid Acc: 92.22%\n",
      "Learning Rate: 0.001000\n",
      "✓ Saved best model with 92.22% accuracy\n",
      "\n",
      "Epoch 6/10\n",
      "--------------------------------------------------\n"
     ]
    },
    {
     "name": "stderr",
     "output_type": "stream",
     "text": [
      "                                                                                \r"
     ]
    },
    {
     "name": "stdout",
     "output_type": "stream",
     "text": [
      "Train Loss: 0.1333 | Train Acc: 95.19%\n",
      "Valid Loss: 0.2623 | Valid Acc: 90.14%\n",
      "Learning Rate: 0.001000\n",
      "\n",
      "Epoch 7/10\n",
      "--------------------------------------------------\n"
     ]
    },
    {
     "name": "stderr",
     "output_type": "stream",
     "text": [
      "                                                                                \r"
     ]
    },
    {
     "name": "stdout",
     "output_type": "stream",
     "text": [
      "Train Loss: 0.1192 | Train Acc: 95.82%\n",
      "Valid Loss: 0.2605 | Valid Acc: 91.83%\n",
      "Learning Rate: 0.001000\n",
      "\n",
      "Epoch 8/10\n",
      "--------------------------------------------------\n"
     ]
    },
    {
     "name": "stderr",
     "output_type": "stream",
     "text": [
      "                                                                                \r"
     ]
    },
    {
     "name": "stdout",
     "output_type": "stream",
     "text": [
      "Train Loss: 0.1077 | Train Acc: 96.56%\n",
      "Valid Loss: 0.2776 | Valid Acc: 90.53%\n",
      "Learning Rate: 0.001000\n",
      "\n",
      "Epoch 9/10\n",
      "--------------------------------------------------\n"
     ]
    },
    {
     "name": "stderr",
     "output_type": "stream",
     "text": [
      "                                                                                \r"
     ]
    },
    {
     "name": "stdout",
     "output_type": "stream",
     "text": [
      "Train Loss: 0.0846 | Train Acc: 97.04%\n",
      "Valid Loss: 0.2529 | Valid Acc: 92.09%\n",
      "Learning Rate: 0.000500\n",
      "\n",
      "Epoch 10/10\n",
      "--------------------------------------------------\n"
     ]
    },
    {
     "name": "stderr",
     "output_type": "stream",
     "text": [
      "                                                                                \r"
     ]
    },
    {
     "name": "stdout",
     "output_type": "stream",
     "text": [
      "Train Loss: 0.0585 | Train Acc: 98.00%\n",
      "Valid Loss: 0.2183 | Valid Acc: 93.77%\n",
      "Learning Rate: 0.000500\n",
      "✓ Saved best model with 93.77% accuracy\n",
      "\n",
      "✓ Training complete! Best accuracy: 93.77%\n"
     ]
    }
   ],
   "source": [
    "history = train_model(model, criterion, optimizer, scheduler, num_epochs=10)"
   ]
  },
  {
   "cell_type": "code",
   "execution_count": 44,
   "id": "91d41927-0d20-403c-86fb-33d158f5842d",
   "metadata": {},
   "outputs": [],
   "source": [
    "def evaluate(dataloader):\n",
    "    model.eval()  \n",
    "    running_loss = 0.0\n",
    "    correct_preds = 0\n",
    "    total_preds = 0\n",
    "    \n",
    "    \n",
    "    with torch.no_grad():\n",
    "        for text_batch, label_batch in dataloader:  \n",
    "            text_batch = text_batch.to(device)\n",
    "            label_batch = label_batch.to(device)\n",
    "            \n",
    "            outputs = model(text_batch)\n",
    "            loss = criterion(outputs, label_batch)\n",
    "            running_loss += loss.item()\n",
    "\n",
    "            \n",
    "            _, predicted = torch.max(outputs, 1)\n",
    "            correct_preds += (predicted == label_batch).sum().item()\n",
    "            total_preds += label_batch.size(0)\n",
    "\n",
    "    accuracy = (correct_preds / total_preds) * 100\n",
    "    avg_loss = running_loss / len(dataloader)\n",
    "    return accuracy, avg_loss"
   ]
  },
  {
   "cell_type": "code",
   "execution_count": 45,
   "id": "80a693b8-2345-44e2-9a05-9e48ba0b8271",
   "metadata": {},
   "outputs": [
    {
     "name": "stdout",
     "output_type": "stream",
     "text": [
      "Test Accuracy: 93.52%\n",
      "Test Loss: 0.2398\n"
     ]
    }
   ],
   "source": [
    "test_accuracy, test_loss = evaluate(test_loader)\n",
    "print(f'Test Accuracy: {test_accuracy:.2f}%')\n",
    "print(f'Test Loss: {test_loss:.4f}')"
   ]
  },
  {
   "cell_type": "code",
   "execution_count": 46,
   "id": "211e25cd-128d-4a6d-bf47-8d1b50352a38",
   "metadata": {},
   "outputs": [],
   "source": [
    "import matplotlib.pyplot as plt\n",
    "\n",
    "def plot_training_history(history):\n",
    "    \"\"\"\n",
    "    Plot training and validation losses and accuracies.\n",
    "    \"\"\"\n",
    "    fig, (ax1, ax2) = plt.subplots(1, 2, figsize=(12, 4))\n",
    "    \n",
    "    # Plot losses\n",
    "    ax1.plot(history['train_loss'], label='Train Loss')\n",
    "    ax1.plot(history['valid_loss'], label='Valid Loss')\n",
    "    ax1.set_xlabel('Epoch')\n",
    "    ax1.set_ylabel('Loss')\n",
    "    ax1.set_title('Training and Validation Loss')\n",
    "    ax1.legend()\n",
    "    ax1.grid(True)\n",
    "    \n",
    "    # Plot accuracies\n",
    "    ax2.plot(history['train_acc'], label='Train Accuracy')\n",
    "    ax2.plot(history['valid_acc'], label='Valid Accuracy')\n",
    "    ax2.set_xlabel('Epoch')\n",
    "    ax2.set_ylabel('Accuracy (%)')\n",
    "    ax2.set_title('Training and Validation Accuracy')\n",
    "    ax2.legend()\n",
    "    ax2.grid(True)\n",
    "    \n",
    "    plt.tight_layout()\n",
    "    plt.show()"
   ]
  },
  {
   "cell_type": "code",
   "execution_count": 47,
   "id": "b188893a-bf4e-49c5-b10a-f44540d8626c",
   "metadata": {},
   "outputs": [
    {
     "data": {
      "image/png": "[encoded data removed]",
      "text/plain": [
       "<Figure size 1200x400 with 2 Axes>"
      ]
     },
     "metadata": {},
     "output_type": "display_data"
    }
   ],
   "source": [
    "plot_training_history(history)"
   ]
  },
  {
   "cell_type": "code",
   "execution_count": null,
   "id": "dc164d4c-5105-4b37-a646-00952c989e79",
   "metadata": {},
   "outputs": [],
   "source": []
  }
 ],
 "metadata": {
  "kernelspec": {
   "display_name": "Python (myenv)",
   "language": "python",
   "name": "myenv"
  },
  "language_info": {
   "codemirror_mode": {
    "name": "ipython",
    "version": 3
   },
   "file_extension": ".py",
   "mimetype": "text/x-python",
   "name": "python",
   "nbconvert_exporter": "python",
   "pygments_lexer": "ipython3",
   "version": "3.12.8"
  }
 },
 "nbformat": 4,
 "nbformat_minor": 5
}
